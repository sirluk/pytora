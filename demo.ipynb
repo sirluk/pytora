{
 "cells": [
  {
   "cell_type": "code",
   "execution_count": null,
   "metadata": {},
   "outputs": [],
   "source": [
    "from transformers import AutoModelForCausalLM\n",
    "from pytora import apply_lora, remove_lora"
   ]
  },
  {
   "cell_type": "code",
   "execution_count": null,
   "metadata": {},
   "outputs": [],
   "source": [
    "MODEL_NAME = \"gpt2-medium\"\n",
    "model = AutoModelForCausalLM.from_pretrained(MODEL_NAME)"
   ]
  },
  {
   "cell_type": "code",
   "execution_count": null,
   "metadata": {},
   "outputs": [],
   "source": [
    "# Optional: create a list of module suffixes to which lora will be applied / not applied\n",
    "# If this is not passed, lora will be applied to all linear layers in the model\n",
    "include_names = ['attn.c_attn', 'attn.c_proj']"
   ]
  },
  {
   "cell_type": "code",
   "execution_count": null,
   "metadata": {},
   "outputs": [],
   "source": [
    "# add lora layers to model\n",
    "apply_lora(\n",
    "    model,\n",
    "    lora_r = 4,\n",
    "    lora_alpha = 1,\n",
    "    lora_dropout = 0.0,\n",
    "    include_names = include_names\n",
    ")"
   ]
  },
  {
   "cell_type": "code",
   "execution_count": null,
   "metadata": {},
   "outputs": [],
   "source": [
    "# remove lora, return learned lora parameters as state dict\n",
    "lora_sd = remove_lora(\n",
    "    model,\n",
    "    merge = True,\n",
    "    return_lora_state_dict = True\n",
    ")"
   ]
  }
 ],
 "metadata": {
  "language_info": {
   "name": "python"
  }
 },
 "nbformat": 4,
 "nbformat_minor": 2
}
